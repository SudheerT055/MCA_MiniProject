{
 "cells": [
  {
   "cell_type": "code",
   "execution_count": 1,
   "id": "00158e23",
   "metadata": {},
   "outputs": [
    {
     "name": "stdout",
     "output_type": "stream",
     "text": [
      "\n",
      " 1.Unit Level Testing:-\n",
      " --------------------\n",
      " A smallest testing part(or)portion in the same code of the application is called as \"Unit testing\".\n",
      " --->Each and every part of unit testing working(or)not\n",
      " -->Unit Testing is also known as \"Module Testing\".\n",
      "1.Top-Down approach:-\n",
      " -----------------------\n",
      " This approach is recommened if there are any incomplete program at bottom level,in this approach integration testing will be carried out from top to bottom,the incomplete will be replaced with \"STUB\".\n",
      "3.Hybrid Approach :-\n",
      " ------------------\n",
      " It is a combination of Top-down and bottom-up approach.\n",
      " -->The incomplete program will be replaced botH STUB an Driver.\n",
      "Blackbox Testing:-\n",
      " -----------------\n",
      " Once 100% is coding is completed and white box completed to confirm correctness of requirement on the application is called as \"Balck Box testing\".\n",
      " \n",
      " --->This testing is conducted by testing team/testers.\n",
      " \n",
      " --->In Blackbox it is divided into 2 Levels.\n",
      " 1.System Level Testing\n",
      " 2.UAT (User Acceptance testing)\n",
      "Coming to Functional testing it is divided into multiple types of testing\n",
      " \n",
      " 1.Smoke testing\n",
      " 2.Positive Testing\n",
      " 3.Negative testing\n",
      " 4.Re-testing\n",
      " 5.Regression testing\n",
      " 6.End-To -End testing\n",
      " 7.Adhoc Testing\n",
      "['1.docx', '2.docx', '3.docx', '4.docx', '5.docx']\n",
      "5\n"
     ]
    }
   ],
   "source": [
    "import os\n",
    "import nltk\n",
    "import numpy as np\n",
    "import math\n",
    "from nltk.corpus import stopwords\n",
    "import docx\n",
    "from docx import Document\n",
    "\n",
    "\n",
    "#doc file input in python\n",
    "def getText(filename):\n",
    "    documentation = Document(filename)\n",
    "    fulltext=[]\n",
    "    for parag in documentation.paragraphs:\n",
    "        fulltext.append(parag.text)\n",
    "    print(\"\\n \".join(fulltext))\n",
    "    return \"\\n\".join(fulltext)\n",
    "#input filepath where all assignment belong\n",
    "docFiles=[]\n",
    "for filename in os.listdir(r\"C:\\Users\\Sudheer\\GIT\\BMSP\"):\n",
    "    if (not filename.startswith('~')) & filename.endswith('.docx') :\n",
    "        getText(filename)\n",
    "        docFiles.append(filename)\n",
    "print(docFiles)\n",
    "docFiles.sort(key=str.lower)\n",
    "print(len(docFiles))\n",
    "\n"
   ]
  },
  {
   "cell_type": "code",
   "execution_count": 2,
   "id": "fa8e1975",
   "metadata": {},
   "outputs": [],
   "source": [
    "#building vocabulary of all the docuents\n",
    "def build_lexicon(corpus):\n",
    "    lexicon=set()\n",
    "    for doc in corpus:\n",
    "        #word tokenization\n",
    "        word_token=[word for word in doc.split()]\n",
    "        lower_word_list=[i.lower() for i in word_token]\n",
    "        #stemming\n",
    "        porter = nltk.PorterStemmer()\n",
    "        stemmed_word=[porter.stem(t) for t in lower_word_list]\n",
    "        #removing stop words\n",
    "        stop_words = set(stopwords.words('english'))\n",
    "        filtered_bag_of_word=[w for w in stemmed_word if not w in stop_words]\n",
    "        lexicon.update(filtered_bag_of_word)\n",
    "    return lexicon"
   ]
  },
  {
   "cell_type": "code",
   "execution_count": 3,
   "id": "294db315",
   "metadata": {},
   "outputs": [],
   "source": [
    "vocabulary=build_lexicon(docFiles)"
   ]
  },
  {
   "cell_type": "code",
   "execution_count": 4,
   "id": "755da265",
   "metadata": {},
   "outputs": [],
   "source": [
    "def tf(term, document):\n",
    "    return freq(term, document)\n",
    "def freq(term, document):\n",
    "    return document.split().count(term)"
   ]
  },
  {
   "cell_type": "code",
   "execution_count": 5,
   "id": "bfd0873d",
   "metadata": {},
   "outputs": [
    {
     "name": "stdout",
     "output_type": "stream",
     "text": [
      "\n",
      " Our Vocabulary vector is [5.docx,3.docx,1.docx,4.docx,2.docx] \n",
      "\n",
      " the tf vector for document 1 is [0,0,1,0,0]\n",
      "\n",
      " the tf vector for document 2 is [0,0,0,0,1]\n",
      "\n",
      " the tf vector for document 3 is [0,1,0,0,0]\n",
      "\n",
      " the tf vector for document 4 is [0,0,0,1,0]\n",
      "\n",
      " the tf vector for document 5 is [1,0,0,0,0]\n",
      "\n",
      " All combined here is our master document term matrix:\n",
      "[[0, 0, 1, 0, 0], [0, 0, 0, 0, 1], [0, 1, 0, 0, 0], [0, 0, 0, 1, 0], [1, 0, 0, 0, 0]]\n"
     ]
    }
   ],
   "source": [
    "doc_term_matrix=[]\n",
    "print(\"\\n Our Vocabulary vector is [\"+','.join(list(vocabulary)) + \"] \")\n",
    "for doc in docFiles:\n",
    "    tf_vector=[tf(word, doc) for word in vocabulary]\n",
    "    tf_vector_string=\",\".join(format (freq, 'd') for freq in tf_vector)\n",
    "    print(\"\\n the tf vector for document %d is [%s]\" % ((docFiles.index(doc)+1),tf_vector_string))\n",
    "    doc_term_matrix.append(tf_vector)\n",
    "print(\"\\n All combined here is our master document term matrix:\")\n",
    "print(doc_term_matrix)"
   ]
  },
  {
   "cell_type": "markdown",
   "id": "452f8f80",
   "metadata": {},
   "source": [
    "#Now every document is in the same feature space\n",
    "#Normalizing vectors to  norm\n",
    "#l2 norm of each vector is 1"
   ]
  },
  {
   "cell_type": "code",
   "execution_count": 6,
   "id": "9cc8021b",
   "metadata": {},
   "outputs": [],
   "source": [
    "def l2_normalizer(vec):\n",
    "    denom = np.sum([el**2 for el in vec])\n",
    "    if math.sqrt(denom):\n",
    "        return [(el/math.sqrt(denom)) for el in vec]\n",
    "    else:\n",
    "        return vec"
   ]
  },
  {
   "cell_type": "code",
   "execution_count": 7,
   "id": "3edbe396",
   "metadata": {},
   "outputs": [
    {
     "name": "stdout",
     "output_type": "stream",
     "text": [
      "\n",
      " A regular old document term matrix: \n",
      "[[0 0 1 0 0]\n",
      " [0 0 0 0 1]\n",
      " [0 1 0 0 0]\n",
      " [0 0 0 1 0]\n",
      " [1 0 0 0 0]]\n",
      "\n",
      "A document term matrix with row wise l2 norms of 1: \n",
      "[[0. 0. 1. 0. 0.]\n",
      " [0. 0. 0. 0. 1.]\n",
      " [0. 1. 0. 0. 0.]\n",
      " [0. 0. 0. 1. 0.]\n",
      " [1. 0. 0. 0. 0.]]\n"
     ]
    }
   ],
   "source": [
    "doc_term_matrix_l2=[]\n",
    "for vec in doc_term_matrix:\n",
    "    doc_term_matrix_l2.append(l2_normalizer (vec))\n",
    "print(\"\\n A regular old document term matrix: \")\n",
    "print(np.matrix(doc_term_matrix))\n",
    "print(\"\\nA document term matrix with row wise l2 norms of 1: \")\n",
    "print(np.matrix(doc_term_matrix_l2))"
   ]
  },
  {
   "cell_type": "code",
   "execution_count": 8,
   "id": "539189ea",
   "metadata": {},
   "outputs": [],
   "source": [
    "def numDocsContaining (word, doclist):\n",
    "    doccount =0\n",
    "    for doc in doclist:\n",
    "        if freq(word, doc)>0:\n",
    "            doccount +1\n",
    "    return doccount"
   ]
  },
  {
   "cell_type": "code",
   "execution_count": 9,
   "id": "6ddab54c",
   "metadata": {},
   "outputs": [],
   "source": [
    "def idf (word,doclist):\n",
    "    n_samples=len(doclist)\n",
    "    df= numDocsContaining (word, doclist)\n",
    "    return np.log(n_samples/1+df)"
   ]
  },
  {
   "cell_type": "code",
   "execution_count": 10,
   "id": "68c5b39c",
   "metadata": {},
   "outputs": [
    {
     "name": "stdout",
     "output_type": "stream",
     "text": [
      "our vocabuary vector is[ 5.docx,3.docx,1.docx,4.docx,2.docx]\n"
     ]
    }
   ],
   "source": [
    "my_idf_vector=[idf(word, docFiles) for word in vocabulary]\n",
    "print(\"our vocabuary vector is[ \"+ \",\".join(list (vocabulary)) + \"]\")"
   ]
  },
  {
   "cell_type": "code",
   "execution_count": 11,
   "id": "2d0dc4c2",
   "metadata": {},
   "outputs": [],
   "source": [
    "def build_idf_matrix(idf_vector):\n",
    "    idf_mat=np.zeros((len(idf_vector), len(idf_vector)))\n",
    "    np.fill_diagonal(idf_mat,idf_vector)\n",
    "    return idf_mat"
   ]
  },
  {
   "cell_type": "code",
   "execution_count": 12,
   "id": "bafa8872",
   "metadata": {},
   "outputs": [
    {
     "name": "stdout",
     "output_type": "stream",
     "text": [
      "\n",
      "Idf matrix is:\n",
      " [[1.60943791 0.         0.         0.         0.        ]\n",
      " [0.         1.60943791 0.         0.         0.        ]\n",
      " [0.         0.         1.60943791 0.         0.        ]\n",
      " [0.         0.         0.         1.60943791 0.        ]\n",
      " [0.         0.         0.         0.         1.60943791]]\n"
     ]
    }
   ],
   "source": [
    "my_idf_matrix=build_idf_matrix(my_idf_vector)\n",
    "print(\"\\nIdf matrix is:\\n\",my_idf_matrix)"
   ]
  },
  {
   "cell_type": "code",
   "execution_count": 13,
   "id": "6ec456b2",
   "metadata": {},
   "outputs": [],
   "source": [
    "doc_term_matrix_tfidf=[]\n",
    "#performing tfidf matrix multiplication\n",
    "for tf_vector in doc_term_matrix:\n",
    "    doc_term_matrix_tfidf.append(np.dot(tf_vector,my_idf_matrix))"
   ]
  },
  {
   "cell_type": "code",
   "execution_count": 14,
   "id": "432ff058",
   "metadata": {},
   "outputs": [
    {
     "name": "stdout",
     "output_type": "stream",
     "text": [
      "{'5.docx', '3.docx', '1.docx', '4.docx', '2.docx'}\n",
      "[[0. 0. 1. 0. 0.]\n",
      " [0. 0. 0. 0. 1.]\n",
      " [0. 1. 0. 0. 0.]\n",
      " [0. 0. 0. 1. 0.]\n",
      " [1. 0. 0. 0. 0.]]\n"
     ]
    }
   ],
   "source": [
    "doc_term_matrix_tfidf_l2=[]\n",
    "for tf_vector in doc_term_matrix_tfidf:\n",
    "    doc_term_matrix_tfidf_l2.append(l2_normalizer(tf_vector))\n",
    "print(vocabulary)\n",
    "print(np.matrix(doc_term_matrix_tfidf_l2))"
   ]
  },
  {
   "cell_type": "code",
   "execution_count": 15,
   "id": "e81f03f5",
   "metadata": {},
   "outputs": [
    {
     "name": "stdout",
     "output_type": "stream",
     "text": [
      "\n",
      " Cosine Distance btw doc 0 and doc 1:\n",
      "1.0\n",
      "\n",
      "Plagiarism =0\n",
      "\n",
      " Cosine Distance btw doc 0 and doc 2:\n",
      "1.0\n",
      "\n",
      "Plagiarism =0\n",
      "\n",
      " Cosine Distance btw doc 0 and doc 3:\n",
      "1.0\n",
      "\n",
      "Plagiarism =0\n",
      "\n",
      " Cosine Distance btw doc 0 and doc 4:\n",
      "1.0\n",
      "\n",
      "Plagiarism =0\n",
      "\n",
      " Cosine Distance btw doc 1 and doc 2:\n",
      "1.0\n",
      "\n",
      "Plagiarism =0\n",
      "\n",
      " Cosine Distance btw doc 1 and doc 3:\n",
      "1.0\n",
      "\n",
      "Plagiarism =0\n",
      "\n",
      " Cosine Distance btw doc 1 and doc 4:\n",
      "1.0\n",
      "\n",
      "Plagiarism =0\n",
      "\n",
      " Cosine Distance btw doc 2 and doc 3:\n",
      "1.0\n",
      "\n",
      "Plagiarism =0\n",
      "\n",
      " Cosine Distance btw doc 2 and doc 4:\n",
      "1.0\n",
      "\n",
      "Plagiarism =0\n",
      "\n",
      " Cosine Distance btw doc 3 and doc 4:\n",
      "1.0\n",
      "\n",
      "Plagiarism =0\n"
     ]
    }
   ],
   "source": [
    "for i in range(len(docFiles)):\n",
    "    for j in range(i+1, len(docFiles)):\n",
    "        result_nltk=nltk.cluster.util.cosine_distance(doc_term_matrix_tfidf_l2[i],doc_term_matrix_tfidf_l2[j])\n",
    "        print(\"\\n Cosine Distance btw doc %d and doc %d:\" %(i,j))\n",
    "        print (result_nltk)\n",
    "        cos_sin=1-result_nltk\n",
    "        try:\n",
    "            angle_in_radians=math.acos(cos_sin)\n",
    "        except ValueError:\n",
    "            print(\"Here Error\")\n",
    "        if not math.isnan(cos_sin):\n",
    "            plagiarism=int(cos_sin*100)\n",
    "            print(\"\\nPlagiarism =%s\" % plagiarism)\n",
    "        else:\n",
    "            print(\"\\n Plagiarism = 1\")"
   ]
  }
 ],
 "metadata": {
  "kernelspec": {
   "display_name": "Python 3 (ipykernel)",
   "language": "python",
   "name": "python3"
  },
  "language_info": {
   "codemirror_mode": {
    "name": "ipython",
    "version": 3
   },
   "file_extension": ".py",
   "mimetype": "text/x-python",
   "name": "python",
   "nbconvert_exporter": "python",
   "pygments_lexer": "ipython3",
   "version": "3.9.13"
  }
 },
 "nbformat": 4,
 "nbformat_minor": 5
}
